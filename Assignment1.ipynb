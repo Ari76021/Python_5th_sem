{
 "cells": [
  {
   "cell_type": "markdown",
   "id": "2e152bb8-ed6f-44b7-a722-6bb30068c74c",
   "metadata": {},
   "source": [
    "Q1.What is optimization and define the types of optimization??\n",
    "\n",
    "Ans: optimization in numerical computing refers to the process of finding the best solution from a set of possible choices,where \"best\" means minimizing and maximizing an objective function,which is often subject to constraints.\n",
    "It can be broadly categorized into following types:\n",
    "1. Unconstrained Optimization:- Involves optimizing an objective function without any constraints.\n",
    "2. Constrained Optimization:-Involves optimizing an objective function while subject to certain constraints.\n",
    "3. Linear Programming:-Optimization of a linear objective function, subject to linear equality and inequality constraints.\n",
    "4. Non-linear programming:-Optimization where the objective function or some of the constraints are nonlinear.\n",
    "5. Global Optimization:-Optimization where the objective function or some of the constraints are nonlinear.\n",
    "6. Stochastic Optimization:-Uses randomness to solve optimization problems, often when the objective function is noisy or non-deterministic"
   ]
  },
  {
   "cell_type": "code",
   "execution_count": 1,
   "id": "9c394109-af3d-49ff-ab35-9cc16115f64b",
   "metadata": {},
   "outputs": [
    {
     "name": "stdout",
     "output_type": "stream",
     "text": [
      "Minimum found at (x, y): [-1.49999997 -2.00000001]\n",
      "Minimum value of the function: -1.2499999999999991\n"
     ]
    }
   ],
   "source": [
    "#Q2. minimize the function f(x,y)=x^2+y^2+3x+4y+5\n",
    "from scipy.optimize import minimize\n",
    "\n",
    "# Define the multivariable function\n",
    "def objective(vars):\n",
    "    x, y = vars\n",
    "    return x**2 + y**2 + 3*x + 4*y + 5\n",
    "\n",
    "# Initial guess\n",
    "initial_guess = [0, 0]\n",
    "\n",
    "# Minimize the function\n",
    "result = minimize(objective, initial_guess)\n",
    "print(\"Minimum found at (x, y):\", result.x)\n",
    "print(\"Minimum value of the function:\", result.fun)\n"
   ]
  }
 ],
 "metadata": {
  "kernelspec": {
   "display_name": "Python 3 (ipykernel)",
   "language": "python",
   "name": "python3"
  },
  "language_info": {
   "codemirror_mode": {
    "name": "ipython",
    "version": 3
   },
   "file_extension": ".py",
   "mimetype": "text/x-python",
   "name": "python",
   "nbconvert_exporter": "python",
   "pygments_lexer": "ipython3",
   "version": "3.12.4"
  }
 },
 "nbformat": 4,
 "nbformat_minor": 5
}
